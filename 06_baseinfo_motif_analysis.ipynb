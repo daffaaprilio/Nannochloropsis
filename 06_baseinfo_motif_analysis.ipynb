{
 "cells": [
  {
   "cell_type": "code",
   "execution_count": 1,
   "id": "3512ceb5",
   "metadata": {},
   "outputs": [],
   "source": [
    "import pandas as pd\n",
    "import numpy as np\n",
    "import matplotlib.pyplot as plt\n",
    "import seaborn as sns\n",
    "import os"
   ]
  },
  {
   "cell_type": "code",
   "execution_count": 2,
   "id": "a0066284",
   "metadata": {},
   "outputs": [],
   "source": [
    "# Define gene lists\n",
    "lpat_genes = [\"LPAT1\", \"LPAT2\", \"LPAT3\", \"LPAT4\"]\n",
    "dgat_genes = [\"DGATa\", \"DGATb\", \"DGATc\", \"DGATd\", \"DGATe\", \"DGATf\", \"DGATg\", \"DGAT2\", \"DGATh\"]\n",
    "\n",
    "# Define sample lists\n",
    "samples = [\"NIES_2145\", \"NIES_2146\", \"NIES_2145_bta1l\"]\n",
    "\n",
    "# Define Contigs dictionary\n",
    "contigs = {\n",
    "    \"LPAT1\": \"JBEBFO010000001.1\",\n",
    "    \"LPAT2\": \"JBEBFO010000006.1\",\n",
    "    \"LPAT3\": \"JBEBFO010000010.1\",\n",
    "    \"LPAT4\": \"JBEBFO010000010.1\",\n",
    "    \"DGATa\": \"JBEBFO010000001.1\",\n",
    "    \"DGATb\": \"JBEBFO010000001.1\",\n",
    "    \"DGATc\": \"JBEBFO010000018.1\",\n",
    "    \"DGATd\": \"JBEBFO010000002.1\",\n",
    "    \"DGATe\": \"JBEBFO010000022.1\",\n",
    "    \"DGATf\": \"JBEBFO010000004.1\",\n",
    "    \"DGATg\": \"JBEBFO010000004.1\",\n",
    "    \"DGAT2\": \"JBEBFO010000005.1\",\n",
    "    \"DGATh\": \"JBEBFO010000008.1\"\n",
    "}"
   ]
  },
  {
   "cell_type": "markdown",
   "id": "1a92c5bc",
   "metadata": {},
   "source": [
    "# 1. Load BED File"
   ]
  },
  {
   "cell_type": "code",
   "execution_count": 3,
   "id": "47f16c14",
   "metadata": {},
   "outputs": [],
   "source": [
    "BED_colnames = [\"chrom\", \"start_position\", \"end_position\", \"base_code\", \"score\", \"strand\", \"start_position2\", \"end_position2\",\n",
    "            \"color\", \"Nvalid_cov\", \"percent_modified\", \"Nmod\", \"Ncanonical\", \"Nother_mod\", \"Ndelete\", \"Nfail\", \"Ndiff\", \"Nnocall\"]\n",
    "\n",
    "# Define sample gene BED file directory\n",
    "bed_dir = \"sample_gene_bed\"\n",
    "\n",
    "# Loop through each sample and gene, read .bed, store to variable and dict\n",
    "for sample in samples:\n",
    "    lpat_dict = {}\n",
    "    dgat_dict = {}\n",
    "\n",
    "    for gene in lpat_genes + dgat_genes:\n",
    "        bed_path = os.path.join(bed_dir, f\"{sample}_{gene}.bed\")\n",
    "        if os.path.exists(bed_path):\n",
    "            bed_df = pd.read_csv(bed_path, sep=\"\\t\", header=None, names=BED_colnames)\n",
    "            var_name = f\"{sample}_{gene}\"\n",
    "            globals()[var_name] = bed_df\n",
    "\n",
    "            # Add to LPAT or DGAT dict\n",
    "            if gene in lpat_genes:\n",
    "                lpat_dict[gene] = {\"bed_df\": bed_df, \"contig\": contigs[gene]}\n",
    "            else:\n",
    "                dgat_dict[gene] = {\"bed_df\": bed_df, \"contig\": contigs[gene]}\n",
    "\n",
    "    # Store dictionaries globally (e.g. NIES_2145_LPAT)\n",
    "    globals()[f\"{sample}_LPAT\"] = lpat_dict\n",
    "    globals()[f\"{sample}_DGAT\"] = dgat_dict"
   ]
  },
  {
   "cell_type": "markdown",
   "id": "51eb60fe",
   "metadata": {},
   "source": [
    "# 2. Base Information for BED file"
   ]
  },
  {
   "cell_type": "markdown",
   "id": "448e685e",
   "metadata": {},
   "source": [
    "## 2.1. Sense base"
   ]
  },
  {
   "cell_type": "code",
   "execution_count": 4,
   "id": "6f69d371",
   "metadata": {},
   "outputs": [],
   "source": [
    "# From bedtools getfasta, obtain sense base info for each base on each gene BED file, read as dataframe\n",
    "\n",
    "reference_genome = \"ref/Nanoce_C018.fna\"\n",
    "bed_dir = \"sample_gene_bed\"\n",
    "\n",
    "for sample in samples:\n",
    "    for gene in lpat_genes + dgat_genes:\n",
    "        bed_path = f\"{bed_dir}/{sample}_{gene}.bed\"\n",
    "        sensebase_bed_path = f\"{bed_dir}/sensebase_{sample}_{gene}.bed\"\n",
    "\n",
    "        # Run bedtools getfasta\n",
    "        !bedtools getfasta -fi {reference_genome} -bed {bed_path} -bedOut > {sensebase_bed_path}\n"
   ]
  },
  {
   "cell_type": "markdown",
   "id": "6524a1a6",
   "metadata": {},
   "source": [
    "## 2.2. Antisense base"
   ]
  },
  {
   "cell_type": "code",
   "execution_count": 5,
   "id": "cacd6af5",
   "metadata": {},
   "outputs": [],
   "source": [
    "def antisense(baseinfo_df):\n",
    "    # Complementary base mapping\n",
    "    complement_map = {'a': 't', 't': 'a', 'g': 'c', 'c': 'g',\n",
    "                      'A': 'T', 'T': 'A', 'G': 'C', 'C': 'G'}\n",
    "\n",
    "    # Apply map directly on the column (vectorized, much faster)\n",
    "    baseinfo_df[\"antisense_base\"] = baseinfo_df[\"sense_base\"].map(complement_map)\n",
    "\n",
    "    return baseinfo_df"
   ]
  },
  {
   "cell_type": "markdown",
   "id": "ab5371b8",
   "metadata": {},
   "source": [
    "## 2.3. Combine base information"
   ]
  },
  {
   "cell_type": "code",
   "execution_count": 6,
   "id": "959fadba",
   "metadata": {},
   "outputs": [],
   "source": [
    "BED_sensebase_colnames = [\"chrom\", \"start_position\", \"end_position\", \"base_code\", \"score\", \"strand\", \"start_position2\", \"end_position2\",\n",
    "            \"color\", \"Nvalid_cov\", \"percent_modified\", \"Nmod\", \"Ncanonical\", \"Nother_mod\", \"Ndelete\", \"Nfail\", \"Ndiff\", \"Nnocall\", \"sense_base\"]"
   ]
  },
  {
   "cell_type": "code",
   "execution_count": 7,
   "id": "9e2e24d9",
   "metadata": {},
   "outputs": [],
   "source": [
    "for sample in samples:\n",
    "    for gene in lpat_genes + dgat_genes:\n",
    "        baseinfo = f\"{sample}_{gene}_baseinfo\"\n",
    "        sensebase_bed_path = f\"{bed_dir}/sensebase_{sample}_{gene}.bed\"\n",
    "\n",
    "        if os.path.exists(sensebase_bed_path):\n",
    "            df = pd.read_csv(sensebase_bed_path, sep='\\t', header=None, names=BED_sensebase_colnames)\n",
    "            df_antisense = antisense(df)\n",
    "            globals()[baseinfo] = df_antisense # This creates variables with sense and antisense base information, i.e., NIES_2145_LPAT1_baseinfo"
   ]
  },
  {
   "cell_type": "markdown",
   "id": "c411328b",
   "metadata": {},
   "source": [
    "# 3. Methylation motif (CpG, CHG, CHH) identification"
   ]
  },
  {
   "cell_type": "markdown",
   "id": "b2105f05",
   "metadata": {},
   "source": [
    "## 3.1. Function to Identify Methylation Motifs (CpG, CHG, CHH)"
   ]
  },
  {
   "cell_type": "code",
   "execution_count": 8,
   "id": "70667760",
   "metadata": {},
   "outputs": [],
   "source": [
    "import numpy as np\n",
    "\n",
    "def find_methylation_motif(df_baseinfo):\n",
    "\n",
    "    df_motifinfo = df_baseinfo.copy()\n",
    "    # Remove duplicate C, which is 4mC\n",
    "    df_motifinfo = df_motifinfo[df_motifinfo['base_code'] != '21839']\n",
    "    # Remove duplicate base which has 6mA\n",
    "    duplicate_base_1 = df_motifinfo['start_position'] == df_motifinfo['start_position'].shift(1)\n",
    "    duplicate_base_min1 = df_motifinfo['start_position'] == df_motifinfo['start_position'].shift(-1)\n",
    "    remove_duplicate_base = duplicate_base_1 & (df_motifinfo['base_code'] == 'a')\n",
    "    remove_duplicate_base = duplicate_base_min1 & (df_motifinfo['base_code'] == 'a')\n",
    "    df_motifinfo = df_motifinfo[~remove_duplicate_base].reset_index(drop=True)        \n",
    "\n",
    "    # Create 'sense_motif' and 'antisense_motif' columns\n",
    "    def classify_motif(base_seq, next_base1, next_base2):\n",
    "        \"\"\"Classifies the methylation motif based on base sequences.\"\"\"\n",
    "        if base_seq in ['C','c']:\n",
    "            if next_base1 in ['G','g']:\n",
    "                return 'CpG'\n",
    "            elif next_base1 in ['A', 'a', 'T', 't', 'C', 'c']:\n",
    "                if next_base2 in ['G', 'g']:\n",
    "                    return 'CHG'\n",
    "                elif next_base2 in ['A', 'a', 'T', 't', 'C', 'c']:\n",
    "                    return 'CHH'\n",
    "        return np.nan\n",
    "\n",
    "    # Shift columns to access the next base(s)\n",
    "    df_motifinfo['next_sense_base1'] = df_motifinfo['sense_base'].shift(-1)\n",
    "    df_motifinfo['next_sense_base2'] = df_motifinfo['sense_base'].shift(-2)\n",
    "\n",
    "    df_motifinfo['sense_motif'] = df_motifinfo.apply(\n",
    "        lambda row: classify_motif(row['sense_base'], row['next_sense_base1'], row['next_sense_base2']), axis=1\n",
    "    )\n",
    "\n",
    "    df_motifinfo['next_antisense_base1'] = df_motifinfo['antisense_base'].shift(-1)\n",
    "    df_motifinfo['next_antisense_base2'] = df_motifinfo['antisense_base'].shift(-2)\n",
    "\n",
    "    df_motifinfo['antisense_motif'] = df_motifinfo.apply(\n",
    "        lambda row: classify_motif(row['antisense_base'], row['next_antisense_base1'], row['next_antisense_base2']), axis=1\n",
    "    )\n",
    "\n",
    "    # Drop helper columns used for shifting\n",
    "    df_motifinfo.drop(['next_sense_base1', 'next_sense_base2', 'next_antisense_base1', 'next_antisense_base2'], axis=1, inplace=True)\n",
    "\n",
    "    return df_motifinfo"
   ]
  },
  {
   "cell_type": "markdown",
   "id": "a5bf5ecf",
   "metadata": {},
   "source": [
    "## 3.2. Execute function"
   ]
  },
  {
   "cell_type": "code",
   "execution_count": 31,
   "id": "76112fd1",
   "metadata": {},
   "outputs": [],
   "source": [
    "for sample in samples:\n",
    "    for gene in lpat_genes + dgat_genes:\n",
    "        baseinfo = f\"{sample}_{gene}_baseinfo\"\n",
    "\n",
    "        # Execute find motif info function\n",
    "        if baseinfo in globals():\n",
    "            motifinfo = f\"{sample}_{gene}_motifinfo\"\n",
    "            globals()[motifinfo] = find_methylation_motif(globals()[baseinfo])"
   ]
  },
  {
   "cell_type": "markdown",
   "id": "51b35e0a",
   "metadata": {},
   "source": [
    "## 3.3. Filter base motif for each gene"
   ]
  },
  {
   "cell_type": "code",
   "execution_count": 33,
   "id": "43d0648b",
   "metadata": {},
   "outputs": [],
   "source": [
    "motifs = [\"CpG\", \"CHG\", \"CHH\"]\n",
    "\n",
    "for sample in samples:\n",
    "    for gene in lpat_genes + dgat_genes:\n",
    "        motifinfo = f\"{sample}_{gene}_motifinfo\"\n",
    "        if motifinfo in globals():\n",
    "            motifinfo = globals()[motifinfo]\n",
    "            for motif in motifs:\n",
    "                subset_var = f\"{sample}_{gene}_motifinfo_{motif}\"\n",
    "                subset_df = motifinfo.loc[\n",
    "                    ((motifinfo[\"sense_motif\"] == motif) | (motifinfo[\"antisense_motif\"] == motif)) &\n",
    "                    (motifinfo[\"base_code\"] == \"m\")\n",
    "                ]\n",
    "                globals()[subset_var] = subset_df"
   ]
  },
  {
   "cell_type": "markdown",
   "id": "571358fd",
   "metadata": {},
   "source": [
    "# 4. Methylation landscape per motif"
   ]
  },
  {
   "cell_type": "code",
   "execution_count": null,
   "id": "50dcd718",
   "metadata": {},
   "outputs": [],
   "source": [
    "for sample in samples:\n",
    "    for gene in lpat_genes + dgat_genes:\n",
    "        for motif in motifs:\n",
    "            contig = contigs[gene]\n",
    "            sample_gene_motif = globals()[f\"{sample}_{gene}_motifinfo_{motif}\"]\n",
    "            \n",
    "            # Adjust scale based on the current gene dataframe\n",
    "            x_axis_length = sample_gene_motif['end_position'].max() - sample_gene_motif['start_position'].min()\n",
    "\n",
    "            # Let sns.relplot manage the figure creation\n",
    "            g = sns.relplot(\n",
    "                data=sample_gene_motif, x='start_position', y='percent_modified', size='score',\n",
    "                kind='scatter', height=3, aspect=3.5,\n",
    "                legend=True\n",
    "            )\n",
    "\n",
    "            # Set title and labels\n",
    "            g.figure.suptitle(f\"{sample}: {motif} Methylation in {gene} gene (Contig: {contig})\", x=0.5, y=1.02)\n",
    "            g.set_axis_labels(\"Base number\", \"% methylated base\")\n",
    "            g.set(xlim=(sample_gene_motif['start_position'].min(), sample_gene_motif['start_position'].min() + x_axis_length))\n",
    "            g.set(ylim=(0,105))\n",
    "            g._legend.set(title='Depth')\n",
    "\n",
    "            # Save plot as image\n",
    "            plt.savefig(f\"visualization_motif_analysis/methylation_landscape/{sample}_{gene}_{motif}.png\", bbox_inches='tight')\n"
   ]
  },
  {
   "cell_type": "markdown",
   "id": "e790b827",
   "metadata": {},
   "source": [
    "# 5. Major methylation type (whole genome level)"
   ]
  },
  {
   "cell_type": "code",
   "execution_count": 40,
   "id": "6c640250",
   "metadata": {},
   "outputs": [
    {
     "name": "stdout",
     "output_type": "stream",
     "text": [
      "zsh:1: bad pattern: nanno/bed/[Nanoce_2145_sorted.bed,\n",
      "zsh:1: bad pattern: nanno/bed/[Nanoce_2145_sorted.bed,\n",
      "zsh:1: bad pattern: nanno/bed/[Nanoce_2145_sorted.bed,\n"
     ]
    }
   ],
   "source": [
    "whole_genome_bed_files = [\n",
    "    \"Nanoce_2145_sorted.bed\",\n",
    "    \"Nanoce_2146_sorted.bed\",\n",
    "    \"Nanoce_2145_bta1l_sorted.bed\"\n",
    "]\n",
    "\n",
    "reference_genome = \"ref/Nanoce_C018.fna\"\n",
    "\n",
    "for bed_file in whole_genome_bed_files:\n",
    "    !bedtools getfasta -fi {reference_genome} -bed nanno/bed/{whole_genome_bed_files} -bedOut > nanno/bed/sensebase_{whole_genome_bed_files}"
   ]
  }
 ],
 "metadata": {
  "kernelspec": {
   "display_name": "venv_mac",
   "language": "python",
   "name": "python3"
  },
  "language_info": {
   "codemirror_mode": {
    "name": "ipython",
    "version": 3
   },
   "file_extension": ".py",
   "mimetype": "text/x-python",
   "name": "python",
   "nbconvert_exporter": "python",
   "pygments_lexer": "ipython3",
   "version": "3.12.2"
  }
 },
 "nbformat": 4,
 "nbformat_minor": 5
}

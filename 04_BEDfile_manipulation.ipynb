{
 "cells": [
  {
   "cell_type": "code",
   "execution_count": 5,
   "id": "0b24618f",
   "metadata": {},
   "outputs": [],
   "source": [
    "import pandas as pd\n",
    "import numpy as np\n",
    "import matplotlib.pyplot as plt\n",
    "import seaborn as sns\n",
    "import os"
   ]
  },
  {
   "cell_type": "markdown",
   "id": "96cae685",
   "metadata": {},
   "source": [
    "# 1. Load BED file"
   ]
  },
  {
   "cell_type": "code",
   "execution_count": 2,
   "id": "4890792f",
   "metadata": {},
   "outputs": [],
   "source": [
    "BED_colnames = [\"chrom\", \"start_position\", \"end_position\", \"base_code\", \"score\", \"strand\", \"start_position2\", \"end_position2\",\n",
    "            \"color\", \"Nvalid_cov\", \"percent_modified\", \"Nmod\", \"Ncanonical\", \"Nother_mod\", \"Ndelete\", \"Nfail\", \"Ndiff\", \"Nnocall\"]\n",
    "\n",
    "NIES_2145 = pd.read_csv(\"nanno/bed/Nanoce_2145_sorted.bed\", sep='\\t', header=None, names=BED_colnames)\n",
    "NIES_2146 = pd.read_csv(\"nanno/bed/Nanoce_2146_sorted.bed\", sep='\\t', header=None, names=BED_colnames)\n",
    "NIES_2145_bta1l = pd.read_csv(\"nanno/bed/Nanoce_2145_bta1l_sorted.bed\", sep='\\t', header=None, names=BED_colnames)"
   ]
  },
  {
   "cell_type": "markdown",
   "id": "0af80a18",
   "metadata": {},
   "source": [
    "# 2. Specify gene coordinates"
   ]
  },
  {
   "cell_type": "markdown",
   "id": "2fc5f031",
   "metadata": {},
   "source": [
    "## 2.1. Run BLAST\n",
    "To obtain the coordinates of LPAT and DGAT genes"
   ]
  },
  {
   "cell_type": "code",
   "execution_count": 57,
   "id": "fdc49fe7",
   "metadata": {
    "vscode": {
     "languageId": "shellscript"
    }
   },
   "outputs": [
    {
     "name": "stdout",
     "output_type": "stream",
     "text": [
      "\n",
      "\n",
      "Building a new DB, current time: 04/14/2025 14:10:00\n",
      "New DB name:   /Users/daffa/Documents/Work/Nannochloropsis/blast/blastdb/Nanoce_C018\n",
      "New DB title:  ref/Nanoce_C018.fna\n",
      "Sequence type: Nucleotide\n",
      "Deleted existing Nucleotide BLAST database named /Users/daffa/Documents/Work/Nannochloropsis/blast/blastdb/Nanoce_C018\n",
      "Keep MBits: T\n",
      "Maximum file size: 3000000000B\n",
      "Adding sequences from FASTA; added 30 sequences in 0.142379 seconds.\n",
      "\n",
      "\n"
     ]
    }
   ],
   "source": [
    "# Create BLAST database\n",
    "!makeblastdb -in ref/Nanoce_C018.fna -input_type fasta -dbtype nucl -out blast/blastdb/Nanoce_C018"
   ]
  },
  {
   "cell_type": "code",
   "execution_count": 58,
   "id": "8c3cfc9e",
   "metadata": {
    "vscode": {
     "languageId": "shellscript"
    }
   },
   "outputs": [],
   "source": [
    "# Search LPAT positions in C018 reference genome\n",
    "!blastn -db blast/blastdb/Nanoce_C018 -query blast/query/LPAT_NIES2145_sequence/LPAT.fna -out blast/result/blastn_LPAT_C018.txt -outfmt 6\n",
    "!blastn -db blast/blastdb/Nanoce_C018 -query blast/query/LPAT_NIES2145_sequence/LPAT.fna -out blast/result/blastn_LPAT_C018_long.txt"
   ]
  },
  {
   "cell_type": "code",
   "execution_count": 59,
   "id": "4b47b6b6",
   "metadata": {
    "vscode": {
     "languageId": "shellscript"
    }
   },
   "outputs": [],
   "source": [
    "# Search DGAT positions in C018 reference genome\n",
    "# DGAT information from (1. convert Nanoce1779 GFF3 to C018 by MetaEuk; 2. Filter rows containing DGAT-related information)\n",
    "\n",
    "!blastn -db blast/blastdb/Nanoce_C018 -query blast/query/DGAT_MNEG5482_sequence/DGAT.fna -out blast/result/blastn_DGAT_C018.txt -outfmt 6\n",
    "!blastn -db blast/blastdb/Nanoce_C018 -query blast/query/DGAT_MNEG5482_sequence/DGAT.fna -out blast/result/blastn_DGAT_C018_long.txt"
   ]
  },
  {
   "cell_type": "code",
   "execution_count": 3,
   "id": "507fae24",
   "metadata": {},
   "outputs": [],
   "source": [
    "# From BLAST results, look for the coordinates and input them\n",
    "\n",
    "# LPAT gene paralogs\n",
    "LPAT1_chrom = 'JBEBFO010000001.1'\n",
    "LPAT1_start = 1520577\n",
    "LPAT1_end = 1521443\n",
    "\n",
    "LPAT2_chrom = 'JBEBFO010000006.1'\n",
    "LPAT2_start = 382392\n",
    "LPAT2_end = 383729\n",
    "\n",
    "LPAT3_chrom = 'JBEBFO010000010.1'\n",
    "LPAT3_start = 884381\n",
    "LPAT3_end = 884871\n",
    "\n",
    "LPAT4_chrom = 'JBEBFO010000010.1'\n",
    "LPAT4_start = 279778\n",
    "LPAT4_end = 281688\n",
    "\n",
    "# DGAT gene paralogs\n",
    "DGATa_chrom = 'JBEBFO010000001.1'\n",
    "DGATa_start = 1427596\n",
    "DGATa_end = 1428693\n",
    "\n",
    "DGATb_chrom = 'JBEBFO010000001.1'\n",
    "DGATb_start = 522961\n",
    "DGATb_end = 524319\n",
    "\n",
    "DGATc_chrom = 'JBEBFO010000018.1'\n",
    "DGATc_start = 509296\n",
    "DGATc_end = 510864\n",
    "\n",
    "DGATd_chrom = 'JBEBFO010000002.1'\n",
    "DGATd_start = 405931\n",
    "DGATd_end = 407490\n",
    "\n",
    "DGATe_chrom = 'JBEBFO010000022.1'\n",
    "DGATe_start = 212019\n",
    "DGATe_end = 213707\n",
    "\n",
    "DGATf_chrom = 'JBEBFO010000004.1'\n",
    "DGATf_start = 565364\n",
    "DGATf_end = 566802\n",
    "\n",
    "DGATg_chrom = 'JBEBFO010000004.1'\n",
    "DGATg_start = 447383\n",
    "DGATg_end = 449011\n",
    "\n",
    "DGAT2_chrom = 'JBEBFO010000005.1'\n",
    "DGAT2_start = 739185\n",
    "DGAT2_end = 740534\n",
    "\n",
    "DGATh_chrom = 'JBEBFO010000008.1'\n",
    "DGATh_start = 240363\n",
    "DGATh_end = 243278"
   ]
  },
  {
   "cell_type": "markdown",
   "id": "854f1a9c",
   "metadata": {},
   "source": [
    "## 2.2. Input coordinates and save as individual BED file"
   ]
  },
  {
   "cell_type": "code",
   "execution_count": 6,
   "id": "0ed4abcd",
   "metadata": {},
   "outputs": [],
   "source": [
    "# Step 1: Define gene lists\n",
    "lpat_genes = [\"LPAT1\", \"LPAT2\", \"LPAT3\", \"LPAT4\"]\n",
    "dgat_genes = [\"DGATa\", \"DGATb\", \"DGATc\", \"DGATd\", \"DGATe\", \"DGATf\", \"DGATg\", \"DGAT2\", \"DGATh\"]\n",
    "\n",
    "# Step 2: Extract gene coordinates using globals()\n",
    "gene_coords = {}\n",
    "for gene in lpat_genes + dgat_genes:\n",
    "    gene_coords[gene] = {\n",
    "        \"chrom\": globals()[f\"{gene}_chrom\"],\n",
    "        \"start\": globals()[f\"{gene}_start\"],\n",
    "        \"end\": globals()[f\"{gene}_end\"]\n",
    "    }\n",
    "\n",
    "# Step 3: Sample-to-DataFrame mapping\n",
    "sample_dfs = {\n",
    "    \"NIES_2145\": NIES_2145,\n",
    "    \"NIES_2146\": NIES_2146,\n",
    "    \"NIES_2145_bta1l\": NIES_2145_bta1l\n",
    "}\n",
    "\n",
    "# Step 4: Create output folder\n",
    "output_dir = \"sample_gene_bed\"\n",
    "os.makedirs(output_dir, exist_ok=True)\n",
    "\n",
    "# Step 5: Filter and save for each sample and gene\n",
    "for sample_name, df in sample_dfs.items():\n",
    "    for gene_name in lpat_genes + dgat_genes:\n",
    "        coords = gene_coords[gene_name]\n",
    "        filtered_df = df[\n",
    "            (df['chrom'] == coords['chrom']) &\n",
    "            (df['start_position'] >= coords['start']) &\n",
    "            (df['end_position'] <= coords['end'])\n",
    "        ].reset_index(drop=True)\n",
    "        \n",
    "        # Save as variable\n",
    "        var_name = f\"{sample_name}_{gene_name}\"\n",
    "        globals()[var_name] = filtered_df\n",
    "\n",
    "        # Export as BED\n",
    "        bed_path = f\"{output_dir}/{var_name}.bed\"\n",
    "        filtered_df.to_csv(bed_path, sep=\"\\t\", index=False, header=False)"
   ]
  }
 ],
 "metadata": {
  "kernelspec": {
   "display_name": "venv_mac",
   "language": "python",
   "name": "python3"
  },
  "language_info": {
   "codemirror_mode": {
    "name": "ipython",
    "version": 3
   },
   "file_extension": ".py",
   "mimetype": "text/x-python",
   "name": "python",
   "nbconvert_exporter": "python",
   "pygments_lexer": "ipython3",
   "version": "3.12.2"
  }
 },
 "nbformat": 4,
 "nbformat_minor": 5
}

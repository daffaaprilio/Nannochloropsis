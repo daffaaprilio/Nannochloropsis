{
 "cells": [
  {
   "cell_type": "code",
   "execution_count": 1,
   "id": "3512ceb5",
   "metadata": {},
   "outputs": [],
   "source": [
    "import pandas as pd\n",
    "import numpy as np\n",
    "import matplotlib.pyplot as plt\n",
    "import seaborn as sns\n",
    "import os"
   ]
  },
  {
   "cell_type": "markdown",
   "id": "1a92c5bc",
   "metadata": {},
   "source": [
    "# 1. Load BED File"
   ]
  },
  {
   "cell_type": "code",
   "execution_count": 3,
   "id": "009bed89",
   "metadata": {},
   "outputs": [],
   "source": [
    "BED_colnames = [\"chrom\", \"start_position\", \"end_position\", \"base_code\", \"score\", \"strand\", \"start_position2\", \"end_position2\",\n",
    "            \"color\", \"Nvalid_cov\", \"percent_modified\", \"Nmod\", \"Ncanonical\", \"Nother_mod\", \"Ndelete\", \"Nfail\", \"Ndiff\", \"Nnocall\"]\n",
    "\n",
    "# Define gene lists\n",
    "lpat_genes = [\"LPAT1\", \"LPAT2\", \"LPAT3\", \"LPAT4\"]\n",
    "dgat_genes = [\"DGATa\", \"DGATb\", \"DGATc\", \"DGATd\", \"DGATe\", \"DGATf\", \"DGATg\", \"DGAT2\", \"DGATh\"]\n",
    "\n",
    "# Define sample lists\n",
    "samples = [\"NIES_2145\", \"NIES_2146\", \"NIES_2145_bta1l\"]\n",
    "\n",
    "# Define Contigs dictionary\n",
    "contigs = {\n",
    "    \"LPAT1\": \"JBEBFO010000001.1\",\n",
    "    \"LPAT2\": \"JBEBFO010000006.1\",\n",
    "    \"LPAT3\": \"JBEBFO010000010.1\",\n",
    "    \"LPAT4\": \"JBEBFO010000010.1\",\n",
    "    \"DGATa\": \"JBEBFO010000001.1\",\n",
    "    \"DGATb\": \"JBEBFO010000001.1\",\n",
    "    \"DGATc\": \"JBEBFO010000018.1\",\n",
    "    \"DGATd\": \"JBEBFO010000002.1\",\n",
    "    \"DGATe\": \"JBEBFO010000022.1\",\n",
    "    \"DGATf\": \"JBEBFO010000004.1\",\n",
    "    \"DGATg\": \"JBEBFO010000004.1\",\n",
    "    \"DGAT2\": \"JBEBFO010000005.1\",\n",
    "    \"DGATh\": \"JBEBFO010000008.1\"\n",
    "}\n",
    "\n",
    "# Define sample gene BED file directory\n",
    "bed_dir = \"sample_gene_bed\"\n",
    "\n",
    "# Loop through each sample and gene, read .bed, store to variable and dict\n",
    "for sample in samples:\n",
    "    lpat_dict = {}\n",
    "    dgat_dict = {}\n",
    "\n",
    "    for gene in lpat_genes + dgat_genes:\n",
    "        bed_path = os.path.join(bed_dir, f\"{sample}_{gene}.bed\")\n",
    "        if os.path.exists(bed_path):\n",
    "            bed_df = pd.read_csv(bed_path, sep=\"\\t\", header=None, names=BED_colnames)\n",
    "            var_name = f\"{sample}_{gene}\"\n",
    "            globals()[var_name] = bed_df\n",
    "\n",
    "            # Add to LPAT or DGAT dict\n",
    "            if gene in lpat_genes:\n",
    "                lpat_dict[gene] = {\"bed_df\": bed_df, \"contig\": contigs[gene]}\n",
    "            else:\n",
    "                dgat_dict[gene] = {\"bed_df\": bed_df, \"contig\": contigs[gene]}\n",
    "\n",
    "    # Store dictionaries globally (e.g. NIES_2145_LPAT)\n",
    "    globals()[f\"{sample}_LPAT\"] = lpat_dict\n",
    "    globals()[f\"{sample}_DGAT\"] = dgat_dict"
   ]
  },
  {
   "cell_type": "markdown",
   "id": "9761f4f7",
   "metadata": {},
   "source": [
    "# 2. Methylation landscape"
   ]
  },
  {
   "cell_type": "code",
   "execution_count": null,
   "id": "f91c5fd5",
   "metadata": {},
   "outputs": [],
   "source": [
    "for sample in samples:\n",
    "    for gene in lpat_genes + dgat_genes:\n",
    "        contig = contigs[gene]\n",
    "        sample_gene = globals()[f\"{sample}_{gene}\"]\n",
    "        \n",
    "        # Adjust scale based on the current gene dataframe\n",
    "        x_axis_length = sample_gene['end_position'].max() - sample_gene['start_position'].min()\n",
    "\n",
    "        # Let sns.relplot manage the figure creation\n",
    "        g = sns.relplot(\n",
    "            data=sample_gene, x='start_position', y='percent_modified',\n",
    "            row='base_code', row_order=['m', '21839', 'a'], hue='base_code', hue_order=['m', 'a', '21839'], size='score',\n",
    "            kind='scatter', height=3, aspect=7,\n",
    "            legend=True\n",
    "        )\n",
    "\n",
    "        # Set title and labels\n",
    "        g.figure.suptitle(f\"{sample}: Methylation in {gene} gene (Contig: {contig})\", x=0.5, y=1.02)\n",
    "        g.set_axis_labels(\"Base number\", \"% methylated base\")\n",
    "        g.set(xlim=(sample_gene['start_position'].min(), sample_gene['start_position'].min() + x_axis_length))\n",
    "        g.set(ylim=(0,105))\n",
    "        g._legend.set(title='Depth')\n",
    "\n",
    "        # Save plot as image\n",
    "        plt.savefig(f\"visualization_methylation_landscape/{sample}_{gene}.png\", bbox_inches='tight')\n"
   ]
  }
 ],
 "metadata": {
  "kernelspec": {
   "display_name": "venv_mac",
   "language": "python",
   "name": "python3"
  },
  "language_info": {
   "codemirror_mode": {
    "name": "ipython",
    "version": 3
   },
   "file_extension": ".py",
   "mimetype": "text/x-python",
   "name": "python",
   "nbconvert_exporter": "python",
   "pygments_lexer": "ipython3",
   "version": "3.12.2"
  }
 },
 "nbformat": 4,
 "nbformat_minor": 5
}
